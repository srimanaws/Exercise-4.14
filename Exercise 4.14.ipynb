{
 "cells": [
  {
   "cell_type": "code",
   "execution_count": null,
   "id": "0927cfcf-3b97-40c0-8df1-d867e64cc951",
   "metadata": {},
   "outputs": [
    {
     "name": "stdin",
     "output_type": "stream",
     "text": [
      "What's 7 times 7?  49\n"
     ]
    },
    {
     "name": "stdout",
     "output_type": "stream",
     "text": [
      "Well done! You got it right!\n"
     ]
    },
    {
     "name": "stdin",
     "output_type": "stream",
     "text": [
      "Want to solve another problem? (yes/no):  yes\n",
      "What's 4 times 4?  16\n"
     ]
    },
    {
     "name": "stdout",
     "output_type": "stream",
     "text": [
      "Well done! You got it right!\n"
     ]
    }
   ],
   "source": [
    "# Exercise: Computer-Assisted Instruction (CAI)\n",
    "# Author: Sriman\n",
    "\n",
    "import random\n",
    "\n",
    "def generate_multiplication_question():\n",
    "    # Generate two random one-digit numbers\n",
    "    num1 = random.randint(1, 9)\n",
    "    num2 = random.randint(1, 9)\n",
    "    return num1, num2\n",
    "\n",
    "def main():\n",
    "    while True:\n",
    "        # Get a new multiplication question\n",
    "        num1, num2 = generate_multiplication_question()\n",
    "        \n",
    "        while True:\n",
    "            try:\n",
    "                # Ask the user the multiplication question\n",
    "                answer = int(input(f\"What's {num1} times {num2}? \"))\n",
    "                \n",
    "                # Check if the answer is correct\n",
    "                if answer == num1 * num2:\n",
    "                    print(\"Well done! You got it right!\")\n",
    "                    break\n",
    "                else:\n",
    "                    print(\"Not quite. Give it another try!\")\n",
    "            \n",
    "            except ValueError:\n",
    "                print(\"Oops, that doesn't seem like a number. Try again.\")\n",
    "        \n",
    "        # Check if the user wants to continue\n",
    "        continue_learning = input(\"Want to solve another problem? (yes/no): \").strip().lower()\n",
    "        if continue_learning != 'yes':\n",
    "            print(\"Awesome job today! Keep practicing, and I'll see you next time!\")\n",
    "            break\n",
    "\n",
    "# Start the CAI program\n",
    "main()\n"
   ]
  },
  {
   "cell_type": "code",
   "execution_count": null,
   "id": "531ea643-d7a3-4a03-a046-0c70a67b9f6f",
   "metadata": {},
   "outputs": [],
   "source": []
  }
 ],
 "metadata": {
  "kernelspec": {
   "display_name": "Python 3 (ipykernel)",
   "language": "python",
   "name": "python3"
  },
  "language_info": {
   "codemirror_mode": {
    "name": "ipython",
    "version": 3
   },
   "file_extension": ".py",
   "mimetype": "text/x-python",
   "name": "python",
   "nbconvert_exporter": "python",
   "pygments_lexer": "ipython3",
   "version": "3.12.4"
  }
 },
 "nbformat": 4,
 "nbformat_minor": 5
}
